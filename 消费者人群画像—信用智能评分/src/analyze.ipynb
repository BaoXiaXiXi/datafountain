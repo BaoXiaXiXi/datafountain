{
 "cells": [
  {
   "cell_type": "code",
   "execution_count": 1,
   "metadata": {},
   "outputs": [],
   "source": [
    "import numpy as np\n",
    "import pandas as pd\n",
    "import seaborn as sns\n",
    "import matplotlib.pyplot as plt\n",
    "import warnings\n",
    "warnings.filterwarnings('ignore')\n",
    "\n",
    "plt.style.use(\"bmh\")\n",
    "plt.rc('font', family='SimHei', size=13) #显示中文\n",
    "pd.set_option('display.max_columns',1000)\n",
    "pd.set_option('display.width', 1000)\n",
    "pd.set_option('display.max_colwidth',1000)"
   ]
  },
  {
   "cell_type": "code",
   "execution_count": 6,
   "metadata": {},
   "outputs": [],
   "source": [
    "train = pd.read_csv('../data/train_dataset.csv')\n",
    "test = pd.read_csv('../data/test_dataset.csv')\n",
    "data = pd.concat([train_data, test_data], ignore_index=True)"
   ]
  },
  {
   "cell_type": "code",
   "execution_count": 5,
   "metadata": {},
   "outputs": [
    {
     "name": "stdout",
     "output_type": "stream",
     "text": [
      "<class 'pandas.core.frame.DataFrame'>\n",
      "RangeIndex: 100000 entries, 0 to 99999\n",
      "Data columns (total 30 columns):\n",
      "信用分                50000 non-null float64\n",
      "当月旅游资讯类应用使用次数      100000 non-null int64\n",
      "当月是否体育场馆消费         100000 non-null int64\n",
      "当月是否到过福州山姆会员店      100000 non-null int64\n",
      "当月是否景点游览           100000 non-null int64\n",
      "当月是否看电影            100000 non-null int64\n",
      "当月是否逛过福州仓山万达       100000 non-null int64\n",
      "当月火车类应用使用次数        100000 non-null int64\n",
      "当月物流快递类应用使用次数      100000 non-null int64\n",
      "当月网购类应用使用次数        100000 non-null int64\n",
      "当月视频播放类应用使用次数      100000 non-null int64\n",
      "当月通话交往圈人数          100000 non-null int64\n",
      "当月金融理财类应用使用总次数     100000 non-null int64\n",
      "当月飞机类应用使用次数        100000 non-null int64\n",
      "是否4G不健康客户          100000 non-null int64\n",
      "是否大学生客户            100000 non-null int64\n",
      "是否经常逛商场的人          100000 non-null int64\n",
      "是否黑名单客户            100000 non-null int64\n",
      "用户实名制是否通过核实        100000 non-null int64\n",
      "用户年龄               100000 non-null int64\n",
      "用户当月账户余额（元）        100000 non-null int64\n",
      "用户最近一次缴费距今时长（月）    100000 non-null int64\n",
      "用户编码               100000 non-null object\n",
      "用户网龄（月）            100000 non-null int64\n",
      "用户话费敏感度            100000 non-null int64\n",
      "用户账单当月总费用（元）       100000 non-null float64\n",
      "用户近6个月平均消费值（元）     100000 non-null float64\n",
      "缴费用户当前是否欠费缴费       100000 non-null int64\n",
      "缴费用户最近一次缴费金额（元）    100000 non-null float64\n",
      "近三个月月均商场出现次数       100000 non-null int64\n",
      "dtypes: float64(4), int64(25), object(1)\n",
      "memory usage: 22.9+ MB\n"
     ]
    }
   ],
   "source": [
    "data.info()"
   ]
  },
  {
   "cell_type": "code",
   "execution_count": 7,
   "metadata": {},
   "outputs": [
    {
     "name": "stdout",
     "output_type": "stream",
     "text": [
      "共有数据集： 100000\n",
      "共有训练集： 50000\n",
      "共有测试集： 50000\n"
     ]
    }
   ],
   "source": [
    "print(\"共有数据集：\", data.shape[0])\n",
    "print(\"共有训练集：\", train.shape[0])\n",
    "print(\"共有测试集：\", test.shape[0])"
   ]
  },
  {
   "cell_type": "code",
   "execution_count": 14,
   "metadata": {},
   "outputs": [
    {
     "name": "stdout",
     "output_type": "stream",
     "text": [
      "1、信用分\t特征类别个数是：278\n",
      "2、当月旅游资讯类应用使用次数\t特征类别个数是：934\n",
      "3、当月是否体育场馆消费\t特征类别个数是：2\n",
      "4、当月是否到过福州山姆会员店\t特征类别个数是：2\n",
      "5、当月是否景点游览\t特征类别个数是：2\n",
      "6、当月是否看电影\t特征类别个数是：2\n",
      "7、当月是否逛过福州仓山万达\t特征类别个数是：2\n",
      "8、当月火车类应用使用次数\t特征类别个数是：180\n",
      "9、当月物流快递类应用使用次数\t特征类别个数是：239\n",
      "10、当月网购类应用使用次数\t特征类别个数是：8382\n",
      "11、当月视频播放类应用使用次数\t特征类别个数是：16067\n",
      "12、当月通话交往圈人数\t特征类别个数是：554\n",
      "13、当月金融理财类应用使用总次数\t特征类别个数是：7232\n",
      "14、当月飞机类应用使用次数\t特征类别个数是：209\n",
      "15、是否4G不健康客户\t特征类别个数是：2\n",
      "16、是否大学生客户\t特征类别个数是：2\n",
      "17、是否经常逛商场的人\t特征类别个数是：2\n",
      "18、是否黑名单客户\t特征类别个数是：2\n",
      "19、用户实名制是否通过核实\t特征类别个数是：2\n",
      "20、用户年龄\t特征类别个数是：88\n",
      "21、用户当月账户余额（元）\t特征类别个数是：316\n",
      "22、用户最近一次缴费距今时长（月）\t特征类别个数是：2\n",
      "23、用户编码\t特征类别个数是：100000\n",
      "24、用户网龄（月）\t特征类别个数是：283\n",
      "25、用户话费敏感度\t特征类别个数是：6\n",
      "26、用户账单当月总费用（元）\t特征类别个数是：16597\n",
      "27、用户近6个月平均消费值（元）\t特征类别个数是：22520\n",
      "28、缴费用户当前是否欠费缴费\t特征类别个数是：2\n",
      "29、缴费用户最近一次缴费金额（元）\t特征类别个数是：532\n",
      "30、近三个月月均商场出现次数\t特征类别个数是：93\n"
     ]
    }
   ],
   "source": [
    "for i,name in enumerate(data.columns):\n",
    "    name_sum = data[name].value_counts().shape[0] \n",
    "    print(\"{}、{}\\t特征类别个数是：{}\".format(i + 1, name, name_sum))"
   ]
  },
  {
   "cell_type": "code",
   "execution_count": null,
   "metadata": {},
   "outputs": [],
   "source": []
  }
 ],
 "metadata": {
  "kernelspec": {
   "display_name": "Python 3",
   "language": "python",
   "name": "python3"
  },
  "language_info": {
   "codemirror_mode": {
    "name": "ipython",
    "version": 3
   },
   "file_extension": ".py",
   "mimetype": "text/x-python",
   "name": "python",
   "nbconvert_exporter": "python",
   "pygments_lexer": "ipython3",
   "version": "3.6.7"
  }
 },
 "nbformat": 4,
 "nbformat_minor": 2
}
